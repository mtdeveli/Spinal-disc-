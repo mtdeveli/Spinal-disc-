{
 "cells": [
  {
   "cell_type": "markdown",
   "metadata": {
    "id": "N9_HGWQ9vGeD"
   },
   "source": [
    "# Problem Tanımı"
   ]
  },
  {
   "cell_type": "markdown",
   "metadata": {},
   "source": [
    "Problem Tanımı: Omurga Disk Kayması Tespiti\n",
    "\n",
    "Omurga disk kayması, omurgadaki disklerin yer değiştirmesi sonucu omurilik veya sinirlere baskı yaparak ağrı ve fonksiyon kaybına yol açan bir durumdur. Günümüzde, manyetik rezonans görüntüleme (MRI) gibi ileri görüntüleme teknikleri kullanılarak disk kayması tespiti yapılmaktadır. Ancak, bu tür görüntülerin incelenmesi oldukça zaman alıcıdır ve hata payı insan faktörüne bağlı olarak değişebilmektedir. Bu projede, MRI görüntüleri üzerinde otomatik segmentasyon teknikleri kullanılarak omurga disk kayması ve hasar tespiti yapmayı hedefliyoruz.\n",
    "\n",
    "Bu projenin amacı, disk kaymasının hızlı ve doğru bir şekilde tespitini sağlayacak bir otomasyon sistemi geliştirmektir. Bu sistem, omurga bölgesindeki kaymış diskleri segmentasyon yoluyla işaretleyecek ve ardından potansiyel hastalıklı alanları tanımlayacaktır."
   ]
  },
  {
   "cell_type": "markdown",
   "metadata": {},
   "source": [
    "# Çözüm Aşamaları"
   ]
  },
  {
   "cell_type": "markdown",
   "metadata": {},
   "source": [
    "\n",
    "1. Veri Hazırlığı ve Ön İşleme\n",
    "2. İlk Aşama: Ana Beden Segmentasyonu (Omurga ve Disklerin Tespiti)\n",
    "3. İkinci Aşama: İnce Detayların Segmentasyonu (Disk Kayması Tespiti)\n",
    "4. Model Eğitimi ve İyileştirme\n",
    "5. Sonuçların Görselleştirilmesi\n",
    "6. Sonuçların Değerlendirilmesi ve İyileştirilmesi\n",
    "7. Uygulama ve Klinik Kullanım:"
   ]
  },
  {
   "cell_type": "markdown",
   "metadata": {},
   "source": [
    "# İlk 3 Görsel Çıktısı"
   ]
  },
  {
   "cell_type": "code",
   "execution_count": 1,
   "metadata": {
    "colab": {
     "base_uri": "https://localhost:8080/",
     "height": 807
    },
    "id": "UKV0EiqYvR8V",
    "outputId": "9c547c26-d74f-4b23-ca06-6a21620b8307"
   },
   "outputs": [
    {
     "ename": "IndexError",
     "evalue": "list index out of range",
     "output_type": "error",
     "traceback": [
      "\u001b[1;31m---------------------------------------------------------------------------\u001b[0m",
      "\u001b[1;31mIndexError\u001b[0m                                Traceback (most recent call last)",
      "\u001b[1;32m~\\AppData\\Local\\Temp/ipykernel_6900/3139588228.py\u001b[0m in \u001b[0;36m<module>\u001b[1;34m\u001b[0m\n\u001b[0;32m     40\u001b[0m \u001b[1;33m\u001b[0m\u001b[0m\n\u001b[0;32m     41\u001b[0m \u001b[1;31m# Fonksiyonu çağırın\u001b[0m\u001b[1;33m\u001b[0m\u001b[1;33m\u001b[0m\u001b[0m\n\u001b[1;32m---> 42\u001b[1;33m \u001b[0mgoruntuleri_goster\u001b[0m\u001b[1;33m(\u001b[0m\u001b[1;34mr\"C:\\Users\\mtdev\\OneDrive\\Masaüstü\\34\\db\"\u001b[0m\u001b[1;33m)\u001b[0m\u001b[1;33m\u001b[0m\u001b[1;33m\u001b[0m\u001b[0m\n\u001b[0m",
      "\u001b[1;32m~\\AppData\\Local\\Temp/ipykernel_6900/3139588228.py\u001b[0m in \u001b[0;36mgoruntuleri_goster\u001b[1;34m(db_path)\u001b[0m\n\u001b[0;32m     18\u001b[0m     \u001b[1;32mfor\u001b[0m \u001b[0mi\u001b[0m \u001b[1;32min\u001b[0m \u001b[0mrange\u001b[0m\u001b[1;33m(\u001b[0m\u001b[1;36m3\u001b[0m\u001b[1;33m)\u001b[0m\u001b[1;33m:\u001b[0m\u001b[1;33m\u001b[0m\u001b[1;33m\u001b[0m\u001b[0m\n\u001b[0;32m     19\u001b[0m         \u001b[1;31m# img görüntüsünü yükle\u001b[0m\u001b[1;33m\u001b[0m\u001b[1;33m\u001b[0m\u001b[0m\n\u001b[1;32m---> 20\u001b[1;33m         \u001b[0mimg_path\u001b[0m \u001b[1;33m=\u001b[0m \u001b[0mos\u001b[0m\u001b[1;33m.\u001b[0m\u001b[0mpath\u001b[0m\u001b[1;33m.\u001b[0m\u001b[0mjoin\u001b[0m\u001b[1;33m(\u001b[0m\u001b[0mdb_path\u001b[0m\u001b[1;33m,\u001b[0m \u001b[0mimg_files\u001b[0m\u001b[1;33m[\u001b[0m\u001b[0mi\u001b[0m\u001b[1;33m]\u001b[0m\u001b[1;33m)\u001b[0m\u001b[1;33m\u001b[0m\u001b[1;33m\u001b[0m\u001b[0m\n\u001b[0m\u001b[0;32m     21\u001b[0m         \u001b[0mimg\u001b[0m \u001b[1;33m=\u001b[0m \u001b[0mImage\u001b[0m\u001b[1;33m.\u001b[0m\u001b[0mopen\u001b[0m\u001b[1;33m(\u001b[0m\u001b[0mimg_path\u001b[0m\u001b[1;33m)\u001b[0m\u001b[1;33m.\u001b[0m\u001b[0mconvert\u001b[0m\u001b[1;33m(\u001b[0m\u001b[1;34m\"L\"\u001b[0m\u001b[1;33m)\u001b[0m\u001b[1;33m\u001b[0m\u001b[1;33m\u001b[0m\u001b[0m\n\u001b[0;32m     22\u001b[0m \u001b[1;33m\u001b[0m\u001b[0m\n",
      "\u001b[1;31mIndexError\u001b[0m: list index out of range"
     ]
    },
    {
     "data": {
      "text/plain": [
       "<Figure size 864x576 with 0 Axes>"
      ]
     },
     "metadata": {},
     "output_type": "display_data"
    }
   ],
   "source": [
    "import os\n",
    "from PIL import Image\n",
    "import matplotlib.pyplot as plt\n",
    "\n",
    "def goruntuleri_goster(db_path):\n",
    "\n",
    "    # img ve label dosyalarını bul\n",
    "    img_files = sorted([f for f in os.listdir(db_path) if f.startswith('img') and f.endswith('.png')])\n",
    "    label_files = sorted([f for f in os.listdir(db_path) if f.startswith('label') and f.endswith('.png')])\n",
    "\n",
    "    # İlk 3 görüntüyü seç\n",
    "    img_files = img_files[:3]\n",
    "    label_files = label_files[:3]\n",
    "\n",
    "    # Görüntüleri ve etiketleri göster\n",
    "    plt.figure(figsize=(12, 8))\n",
    "\n",
    "    for i in range(3):\n",
    "        # img görüntüsünü yükle\n",
    "        img_path = os.path.join(db_path, img_files[i])\n",
    "        img = Image.open(img_path).convert(\"L\")\n",
    "\n",
    "        # label görüntüsünü yükle\n",
    "        label_path = os.path.join(db_path, label_files[i])\n",
    "        label = Image.open(label_path).convert(\"L\")\n",
    "\n",
    "        # Görüntüleri yan yana göster\n",
    "        plt.subplot(3, 2, 2 * i + 1)\n",
    "        plt.imshow(img, cmap='gray')\n",
    "        plt.axis('off')  # Eksenleri kapat\n",
    "        plt.title(f'Image {i + 1}')\n",
    "\n",
    "        plt.subplot(3, 2, 2 * i + 2)\n",
    "        plt.imshow(label, cmap='gray')\n",
    "        plt.axis('off')  # Eksenleri kapat\n",
    "        plt.title(f'Label {i + 1}')\n",
    "\n",
    "    plt.tight_layout()\n",
    "    plt.show()\n",
    "\n",
    "# Fonksiyonu çağırın\n",
    "goruntuleri_goster(r\"C:\\Users\\mtdev\\OneDrive\\Masaüstü\\34\\db\")\n"
   ]
  },
  {
   "cell_type": "code",
   "execution_count": 23,
   "metadata": {},
   "outputs": [],
   "source": [
    "from monai.transforms import ScaleIntensity\n",
    "import torch\n",
    "from PIL import Image\n",
    "import numpy as np\n",
    "\n",
    "# Görüntü dosyasının yolu\n",
    "image_path = r\"C:\\Users\\mtdev\\OneDrive\\Masaüstü\\34\\DB\\img (1).png\"\n",
    "\n",
    "# Görüntüyü yükleme\n",
    "image = Image.open(image_path).convert(\"L\")  # \"L\" ile gri tonlamaya çeviriyoruz\n",
    "image_array = np.array(image)\n",
    "\n",
    "# Normalize etmek için ScaleIntensity kullanıyoruz\n",
    "# Görüntü değerleri 0-255 aralığından 0-1 aralığına dönüştürülür.\n",
    "normalize_transform = ScaleIntensity(minv=0.0, maxv=255.0)\n",
    "\n",
    "# Normalizasyon işlemi\n",
    "normalized_image = normalize_transform(image_array)\n",
    "\n",
    "# Sonuçları kontrol et\n",
    "normalized_image_pil = Image.fromarray((normalized_image * 255).astype(np.uint8))\n",
    "normalized_image_pil.show()  # Normalized image'ı görüntüle\n"
   ]
  },
  {
   "cell_type": "code",
   "execution_count": null,
   "metadata": {},
   "outputs": [
    {
     "ename": "ModuleNotFoundError",
     "evalue": "No module named 'torchvision'",
     "output_type": "error",
     "traceback": [
      "\u001b[1;31m---------------------------------------------------------------------------\u001b[0m",
      "\u001b[1;31mModuleNotFoundError\u001b[0m                       Traceback (most recent call last)",
      "\u001b[1;32m~\\AppData\\Local\\Temp/ipykernel_7488/2068602009.py\u001b[0m in \u001b[0;36m<module>\u001b[1;34m\u001b[0m\n\u001b[0;32m      5\u001b[0m \u001b[1;32mimport\u001b[0m \u001b[0mmatplotlib\u001b[0m\u001b[1;33m.\u001b[0m\u001b[0mpyplot\u001b[0m \u001b[1;32mas\u001b[0m \u001b[0mplt\u001b[0m\u001b[1;33m\u001b[0m\u001b[1;33m\u001b[0m\u001b[0m\n\u001b[0;32m      6\u001b[0m \u001b[1;32mfrom\u001b[0m \u001b[0mPIL\u001b[0m \u001b[1;32mimport\u001b[0m \u001b[0mImage\u001b[0m\u001b[1;33m\u001b[0m\u001b[1;33m\u001b[0m\u001b[0m\n\u001b[1;32m----> 7\u001b[1;33m \u001b[1;32mimport\u001b[0m \u001b[0mtorchvision\u001b[0m\u001b[1;33m.\u001b[0m\u001b[0mtransforms\u001b[0m \u001b[1;32mas\u001b[0m \u001b[0mT\u001b[0m\u001b[1;33m\u001b[0m\u001b[1;33m\u001b[0m\u001b[0m\n\u001b[0m\u001b[0;32m      8\u001b[0m \u001b[1;32mfrom\u001b[0m \u001b[0mtorch\u001b[0m\u001b[1;33m.\u001b[0m\u001b[0mutils\u001b[0m\u001b[1;33m.\u001b[0m\u001b[0mdata\u001b[0m \u001b[1;32mimport\u001b[0m \u001b[0mDataset\u001b[0m\u001b[1;33m,\u001b[0m \u001b[0mDataLoader\u001b[0m\u001b[1;33m\u001b[0m\u001b[1;33m\u001b[0m\u001b[0m\n\u001b[0;32m      9\u001b[0m \u001b[1;32mimport\u001b[0m \u001b[0mtorch\u001b[0m\u001b[1;33m.\u001b[0m\u001b[0mnn\u001b[0m \u001b[1;32mas\u001b[0m \u001b[0mnn\u001b[0m  \u001b[1;31m# nn modülünü burada import ediyoruz\u001b[0m\u001b[1;33m\u001b[0m\u001b[1;33m\u001b[0m\u001b[0m\n",
      "\u001b[1;31mModuleNotFoundError\u001b[0m: No module named 'torchvision'"
     ]
    }
   ],
   "source": [
    "import torch\n",
    "import torch.nn as nn\n",
    "import torch.optim as optim\n",
    "from monai.networks.nets import UNet\n",
    "from monai.transforms import Compose, LoadImage, ScaleIntensity\n",
    "from monai.data import DataLoader, ArrayDataset\n",
    "from monai.metrics import DiceMetric\n",
    "from monai.losses import DiceLoss\n",
    "\n",
    "# Model ve cihaz seçimi\n",
    "device = torch.device(\"cuda\" if torch.cuda.is_available() else \"cpu\")\n",
    "\n",
    "# UNet modelini tanımla\n",
    "model = UNet(\n",
    "    spatial_dims=2,  # 2D model\n",
    "    in_channels=1,  # 1 kanal (grayscale)\n",
    "    out_channels=1,  # 1 çıktı (binary segmentation)\n",
    "    channels=(16, 32, 64, 128, 256),  # Kanal büyüklükleri\n",
    "    strides=(2, 2, 2, 2),  # Stride değerleri\n",
    "    kernel_size=3,  # Filtre boyutu\n",
    "    up_kernel_size=3,  # Yükseltme kernel boyutu\n",
    "    act=(\"relu\",)  # Aktivasyon fonksiyonu\n",
    ").to(device)\n",
    "\n",
    "# Loss fonksiyonu ve optimizer\n",
    "loss_function = DiceLoss(sigmoid=True)  # Sigmoid ile birlikte Dice kaybı\n",
    "optimizer = optim.Adam(model.parameters(), lr=1e-4)\n",
    "\n",
    "# Eğitim verisi ve dönüşümler\n",
    "train_transforms = Compose([LoadImage(image_only=True, ensure_channel_first=True), ScaleIntensity()])\n",
    "train_ds = ArrayDataset(images, train_transforms, labels, train_transforms)\n",
    "train_loader = DataLoader(train_ds, batch_size=4, shuffle=True)\n",
    "\n",
    "# Test verisi ve dönüşümler\n",
    "test_transforms = Compose([LoadImage(image_only=True, ensure_channel_first=True), ScaleIntensity()])\n",
    "test_ds = ArrayDataset(test_images, test_transforms, test_labels, test_transforms)\n",
    "test_loader = DataLoader(test_ds, batch_size=4, shuffle=False)\n",
    "\n",
    "# Dice metrikleri\n",
    "dice_metric = DiceMetric(include_background=False, reduction=\"mean\", get_not_nans=True)\n",
    "\n",
    "# Eğitim döngüsü\n",
    "num_epochs = 10\n",
    "for epoch in range(num_epochs):\n",
    "    model.train()\n",
    "    for batch_data in train_loader:\n",
    "        images, labels = batch_data\n",
    "\n",
    "        # Görüntüler ve etiketleri device'a taşı\n",
    "        images = images.to(device)\n",
    "        labels = labels.to(device)\n",
    "\n",
    "        optimizer.zero_grad()\n",
    "\n",
    "        # Modelin çıktısını al\n",
    "        outputs = model(images)\n",
    "\n",
    "        # Kaybı hesapla\n",
    "        loss = loss_function(outputs, labels)\n",
    "        loss.backward()\n",
    "\n",
    "        # Optimizer adımını at\n",
    "        optimizer.step()\n",
    "\n",
    "    print(f'Epoch [{epoch + 1}/{num_epochs}], Loss: {loss.item():.4f}')\n",
    "\n",
    "# Modeli kaydet\n",
    "torch.save(model.state_dict(), \"model.pth\")\n",
    "\n",
    "# Test verisi ile doğruluk hesaplama\n",
    "model.eval()\n",
    "with torch.no_grad():\n",
    "    for batch_data in test_loader:\n",
    "        images, labels = batch_data\n",
    "\n",
    "        # Görüntü ve etiketleri device'a taşı\n",
    "        images = images.to(device)\n",
    "        labels = labels.to(device)\n",
    "\n",
    "        # Modelin tahminini al\n",
    "        outputs = model(images)\n",
    "\n",
    "        # Dice metriğini hesapla\n",
    "        dice_metric(outputs, labels)\n",
    "\n",
    "# Dice metriğini yazdır\n",
    "mean_dice = dice_metric.aggregate().item()\n",
    "print(f'Mean Dice Score on Test Set: {mean_dice:.4f}')\n"
   ]
  },
  {
   "cell_type": "code",
   "execution_count": null,
   "metadata": {},
   "outputs": [],
   "source": []
  },
  {
   "cell_type": "code",
   "execution_count": null,
   "metadata": {},
   "outputs": [],
   "source": []
  },
  {
   "cell_type": "markdown",
   "metadata": {
    "id": "EhunGKLPvGeE"
   },
   "source": [
    "## Kütüphaneleri import et"
   ]
  },
  {
   "cell_type": "code",
   "execution_count": null,
   "metadata": {
    "id": "2sv8K1JhvGeF"
   },
   "outputs": [],
   "source": []
  },
  {
   "cell_type": "markdown",
   "metadata": {
    "id": "RiJBZT1_vGeF"
   },
   "source": [
    "# Scale norm"
   ]
  },
  {
   "cell_type": "code",
   "execution_count": 2,
   "metadata": {
    "id": "azpYpPPkvGeF"
   },
   "outputs": [],
   "source": [
    "from monai.transforms import ScaleIntensityRange\n",
    "import numpy as np\n",
    "from PIL import Image\n",
    "\n",
    "# Görüntü dosya yolunu doğru şekilde belirtin\n",
    "image_path = r\"C:\\Users\\mtdev\\OneDrive\\Masaüstü\\34\\DB\\img (1).png\"\n",
    "\n",
    "# ScaleNorm işlemini tanımla\n",
    "scale_transform = ScaleIntensityRange(a_min=0, a_max=255, b_min=0, b_max=1)\n",
    "\n",
    "# Görüntüyü yükleme ve numpy array formatına dönüştürme\n",
    "image = Image.open(image_path).convert(\"L\")  # \"L\" ile gri tonlamaya çeviriyoruz\n",
    "image_array = np.array(image)\n",
    "\n",
    "# ScaleNorm işlemini uygula\n",
    "scaled_image = scale_transform(image_array)\n",
    "\n",
    "# Sonuç görüntüyü kontrol et\n",
    "scaled_image_pil = Image.fromarray((scaled_image * 255).astype(np.uint8))  # Yeniden 0-255 aralığına dönüştür\n",
    "scaled_image_pil.show()  # Görüntüyü ekranda göster\n",
    "scaled_image_pil.save(\"scaled_image.png\")  # Görüntüyü kaydet (isteğe bağlı)\n"
   ]
  },
  {
   "cell_type": "markdown",
   "metadata": {
    "id": "JCFLpkUuvGeG"
   },
   "source": [
    "# JSON TO PNG"
   ]
  },
  {
   "cell_type": "code",
   "execution_count": 2,
   "metadata": {
    "id": "S9S8xAYvvGeG",
    "outputId": "d2e8cd36-fa9b-45b9-da1a-a61adbab594b"
   },
   "outputs": [
    {
     "name": "stdout",
     "output_type": "stream",
     "text": [
      "Tüm JSON dosyaları PNG'ye dönüştürüldü.\n"
     ]
    }
   ],
   "source": [
    "import json\n",
    "import numpy as np\n",
    "from PIL import Image\n",
    "import os\n",
    "import cv2\n",
    "\n",
    "# JSON dosya yolunu belirtin\n",
    "json_dir = r\"C:\\Users\\mtdev\\OneDrive\\Masaüstü\\34\\jsonlar\"\n",
    "output_dir = \"labels\"\n",
    "\n",
    "if not os.path.exists(output_dir):\n",
    "    os.makedirs(output_dir)\n",
    "\n",
    "# JSON dosyalarının listesini al\n",
    "json_files = [f for f in os.listdir(json_dir) if f.endswith('.json')]\n",
    "\n",
    "for json_file in json_files:\n",
    "    # JSON dosyasını aç\n",
    "    with open(os.path.join(json_dir, json_file)) as f:\n",
    "        data = json.load(f)\n",
    "\n",
    "    # Görsel boyutunu ve işaretli poligonları al\n",
    "    img_height = data['imageHeight']\n",
    "    img_width = data['imageWidth']\n",
    "    polygons = [shape['points'] for shape in data['shapes']]\n",
    "\n",
    "    # Boş bir maske oluştur\n",
    "    mask = np.zeros((img_height, img_width), dtype=np.uint8)\n",
    "\n",
    "    # Poligonları maske üzerine çiz\n",
    "    for polygon in polygons:\n",
    "        polygon = np.array(polygon, np.int32)\n",
    "        cv2.fillPoly(mask, [polygon], 255)\n",
    "\n",
    "    # PNG dosyası olarak kaydet\n",
    "    png_filename = os.path.splitext(json_file)[0] + '.png'\n",
    "    Image.fromarray(mask).save(os.path.join(output_dir, png_filename))\n",
    "\n",
    "print(\"Tüm JSON dosyaları PNG'ye dönüştürüldü.\")\n"
   ]
  },
  {
   "cell_type": "markdown",
   "metadata": {
    "id": "k21D-lKOvGeH"
   },
   "source": [
    "## Klasördeki görüntü ve maskeleri tek değişkene bağla"
   ]
  },
  {
   "cell_type": "code",
   "execution_count": null,
   "metadata": {
    "id": "xIT1Kll7vGeH",
    "outputId": "2173dec9-6670-486a-eb31-df5c97bb3d59"
   },
   "outputs": [
    {
     "name": "stdout",
     "output_type": "stream",
     "text": [
      "['C:\\\\Users\\\\mtdev\\\\OneDrive\\\\Masaüstü\\\\34\\\\DB\\\\img (1).png', 'C:\\\\Users\\\\mtdev\\\\OneDrive\\\\Masaüstü\\\\34\\\\DB\\\\img (10).png', 'C:\\\\Users\\\\mtdev\\\\OneDrive\\\\Masaüstü\\\\34\\\\DB\\\\img (2).png', 'C:\\\\Users\\\\mtdev\\\\OneDrive\\\\Masaüstü\\\\34\\\\DB\\\\img (3).png', 'C:\\\\Users\\\\mtdev\\\\OneDrive\\\\Masaüstü\\\\34\\\\DB\\\\img (4).png', 'C:\\\\Users\\\\mtdev\\\\OneDrive\\\\Masaüstü\\\\34\\\\DB\\\\img (5).png', 'C:\\\\Users\\\\mtdev\\\\OneDrive\\\\Masaüstü\\\\34\\\\DB\\\\img (6).png', 'C:\\\\Users\\\\mtdev\\\\OneDrive\\\\Masaüstü\\\\34\\\\DB\\\\img (7).png', 'C:\\\\Users\\\\mtdev\\\\OneDrive\\\\Masaüstü\\\\34\\\\DB\\\\img (8).png', 'C:\\\\Users\\\\mtdev\\\\OneDrive\\\\Masaüstü\\\\34\\\\DB\\\\img (9).png']\n",
      "['C:\\\\Users\\\\mtdev\\\\OneDrive\\\\Masaüstü\\\\34\\\\DB\\\\label (1).png', 'C:\\\\Users\\\\mtdev\\\\OneDrive\\\\Masaüstü\\\\34\\\\DB\\\\label (10).png', 'C:\\\\Users\\\\mtdev\\\\OneDrive\\\\Masaüstü\\\\34\\\\DB\\\\label (2).png', 'C:\\\\Users\\\\mtdev\\\\OneDrive\\\\Masaüstü\\\\34\\\\DB\\\\label (3).png', 'C:\\\\Users\\\\mtdev\\\\OneDrive\\\\Masaüstü\\\\34\\\\DB\\\\label (4).png', 'C:\\\\Users\\\\mtdev\\\\OneDrive\\\\Masaüstü\\\\34\\\\DB\\\\label (5).png', 'C:\\\\Users\\\\mtdev\\\\OneDrive\\\\Masaüstü\\\\34\\\\DB\\\\label (6).png', 'C:\\\\Users\\\\mtdev\\\\OneDrive\\\\Masaüstü\\\\34\\\\DB\\\\label (7).png', 'C:\\\\Users\\\\mtdev\\\\OneDrive\\\\Masaüstü\\\\34\\\\DB\\\\label (8).png', 'C:\\\\Users\\\\mtdev\\\\OneDrive\\\\Masaüstü\\\\34\\\\DB\\\\label (9).png']\n"
     ]
    }
   ],
   "source": [
    "import os\n",
    "from glob import glob\n",
    "\n",
    "# Dosya yollarını belirtin\n",
    "image_dir = r\"C:\\Users\\mtdev\\OneDrive\\Masaüstü\\34\\DB\"\n",
    "label_dir = r\"C:\\Users\\mtdev\\OneDrive\\Masaüstü\\34\\DB\"\n",
    "\n",
    "# Görüntüleri ve etiketleri yüklüyoruz\n",
    "images = sorted(glob(os.path.join(image_dir, \"img*.png\")))\n",
    "labels = sorted(glob(os.path.join(label_dir, \"label*.png\")))\n",
    "\n",
    "print(images)\n",
    "print(labels)\n"
   ]
  },
  {
   "cell_type": "markdown",
   "metadata": {
    "id": "L1bhtsQnvGeH"
   },
   "source": [
    "## Compose: Görüntü üzerinde yapılacak dönüşümleri birleştir"
   ]
  },
  {
   "cell_type": "code",
   "execution_count": 10,
   "metadata": {
    "id": "fGF7OkSVvGeH"
   },
   "outputs": [
    {
     "name": "stdout",
     "output_type": "stream",
     "text": [
      "Eğitim seti: 8 görsel\n",
      "Test seti: 2 görsel\n"
     ]
    }
   ],
   "source": [
    "import os\n",
    "from glob import glob\n",
    "from monai.transforms import Compose, LoadImage, ScaleIntensity, RandSpatialCrop, RandRotate90, RandFlip, RandZoom, RandGaussianNoise, Activations, AsDiscrete\n",
    "from torch.utils.data import DataLoader\n",
    "from monai.data import ArrayDataset\n",
    "import torch\n",
    "# Dosya yollarını belirtin\n",
    "image_dir = r\"C:\\Users\\mtdev\\OneDrive\\Masaüstü\\34\\DB\"\n",
    "label_dir = r\"C:\\Users\\mtdev\\OneDrive\\Masaüstü\\34\\DB\"\n",
    "\n",
    "# Görüntüleri ve etiketleri yükleme\n",
    "images = sorted(glob(os.path.join(image_dir, \"img*.png\")))\n",
    "labels = sorted(glob(os.path.join(label_dir, \"label*.png\")))\n",
    "\n",
    "# Eğitim ve test verilerini bölme (8 eğitim, 2 test)\n",
    "train_images = images[:8]\n",
    "train_labels = labels[:8]\n",
    "test_images = images[8:]\n",
    "test_labels = labels[8:]\n",
    "\n",
    "# Eğitim verisi dönüşümü\n",
    "train_imtrans = Compose(\n",
    "    [\n",
    "        LoadImage(image_only=True, ensure_channel_first=True),\n",
    "        ScaleIntensity(),\n",
    "        RandSpatialCrop((256, 256), random_size=False),\n",
    "        RandRotate90(prob=0.5, spatial_axes=(0, 1)),\n",
    "        RandFlip(prob=0.5),\n",
    "        RandZoom(min_zoom=0.9, max_zoom=1.1, prob=0.55),\n",
    "        RandGaussianNoise(prob=0.5)\n",
    "    ]\n",
    ")\n",
    "\n",
    "train_labeltrans = Compose(\n",
    "    [\n",
    "        LoadImage(image_only=True, ensure_channel_first=True),\n",
    "        RandSpatialCrop((256, 256), random_size=False),\n",
    "        RandRotate90(prob=0.5, spatial_axes=(0, 1)),\n",
    "    ]\n",
    ")\n",
    "\n",
    "# Test verisi dönüşümü\n",
    "test_imtrans = Compose(\n",
    "    [\n",
    "        LoadImage(image_only=True, ensure_channel_first=True),\n",
    "        ScaleIntensity(),\n",
    "    ]\n",
    ")\n",
    "\n",
    "test_labeltrans = Compose(\n",
    "    [\n",
    "        LoadImage(image_only=True, ensure_channel_first=True),\n",
    "    ]\n",
    ")\n",
    "\n",
    "# Post-processing işlemi\n",
    "post_trans = Compose(\n",
    "    [\n",
    "        Activations(sigmoid=True),\n",
    "        AsDiscrete(threshold=0.6),\n",
    "    ]\n",
    ")\n",
    "\n",
    "# Dataset ve DataLoader ayarları\n",
    "train_ds = ArrayDataset(train_images, train_imtrans, train_labels, train_labeltrans)\n",
    "test_ds = ArrayDataset(test_images, test_imtrans, test_labels, test_labeltrans)\n",
    "\n",
    "train_loader = DataLoader(train_ds, batch_size=4, shuffle=True, num_workers=4, pin_memory=torch.cuda.is_available())\n",
    "test_loader = DataLoader(\n",
    "    test_ds,\n",
    "    batch_size=2,\n",
    "    shuffle=False,\n",
    "    num_workers=2,\n",
    "    pin_memory=torch.cuda.is_available()\n",
    ")\n",
    "\n",
    "print(f\"Eğitim seti: {len(train_images)} görsel\")\n",
    "print(f\"Test seti: {len(test_images)} görsel\")"
   ]
  },
  {
   "cell_type": "markdown",
   "metadata": {
    "id": "TZrQqCK1vGeH"
   },
   "source": [
    "## Klasördeki görüntülerin okunması ve dönüştürülmesi nesnesi:"
   ]
  },
  {
   "cell_type": "code",
   "execution_count": 11,
   "metadata": {
    "id": "uxq8vA-vvGeH"
   },
   "outputs": [],
   "source": [
    "ds = ArrayDataset(images, train_imtrans, labels, train_labeltrans)\n"
   ]
  },
  {
   "cell_type": "markdown",
   "metadata": {
    "id": "seok5dsNvGeH"
   },
   "source": [
    "## Yüklenen veri nesnesi"
   ]
  },
  {
   "cell_type": "code",
   "execution_count": 34,
   "metadata": {
    "id": "76iIathwvGeI"
   },
   "outputs": [],
   "source": [
    "loader = DataLoader(ds, batch_size=16, num_workers=2, pin_memory=torch.cuda.is_available())\n"
   ]
  },
  {
   "cell_type": "markdown",
   "metadata": {
    "id": "8wGl_PNvvGeI"
   },
   "source": [
    "## İlk görseller"
   ]
  },
  {
   "cell_type": "code",
   "execution_count": 13,
   "metadata": {
    "id": "8AGBQIY_vGeI"
   },
   "outputs": [],
   "source": [
    "import matplotlib.pyplot as plt\n",
    "\n",
    "def goster(goruntuler, titles=None):\n",
    "    n = len(goruntuler)  # Görüntü sayısını belirle\n",
    "\n",
    "    # Tek bir görüntü varsa subplot yapısına gerek yok\n",
    "    if n == 1:\n",
    "        plt.imshow(goruntuler[0], cmap='gray')\n",
    "        if titles:  # Eğer başlık verilmişse\n",
    "            plt.title(titles[0])\n",
    "        plt.axis('off')\n",
    "        plt.show()\n",
    "        return\n",
    "\n",
    "    # Çoklu görüntüler için subplot yapısı\n",
    "    fig, axs = plt.subplots(1, n, figsize=(3*n, 3))  # Görüntü sayısına göre boyut\n",
    "\n",
    "    # Tek boyutlu aks durumunu düzeltmek için (n=1 durumunda tek aks olur)\n",
    "    if n == 1:\n",
    "        axs = [axs]\n",
    "\n",
    "    for i, goruntu in enumerate(goruntuler):\n",
    "        axs[i].imshow(goruntu, cmap='gray')  # Görüntüyü çiz\n",
    "        axs[i].axis('off')  # Eksenleri gizle\n",
    "        if titles:  # Eğer başlık verilmişse\n",
    "            axs[i].set_title(titles[i])\n",
    "\n",
    "    plt.subplots_adjust(wspace=0.1)  # Görüntüler arasındaki boşluk\n",
    "    plt.show()"
   ]
  },
  {
   "cell_type": "code",
   "execution_count": 15,
   "metadata": {
    "id": "1SVD-S2kvGeI",
    "outputId": "2305ac7a-710e-4b6b-9b07-03d4c7b87557"
   },
   "outputs": [
    {
     "name": "stdout",
     "output_type": "stream",
     "text": [
      "torch.Size([10, 4, 256, 256]) torch.Size([10, 1, 256, 256])\n"
     ]
    },
    {
     "data": {
      "image/png": "[encoded data removed]",
      "text/plain": [
       "<Figure size 1080x360 with 2 Axes>"
      ]
     },
     "metadata": {
      "needs_background": "light"
     },
     "output_type": "display_data"
    }
   ],
   "source": [
    "import torch\n",
    "import matplotlib.pyplot as plt\n",
    "from monai.utils.misc import first\n",
    "\n",
    "# Gerekli kütüphaneler\n",
    "# MONAI, Torch ve Matplotlib'i kullanarak görselleştirme ve veri işleme.\n",
    "\n",
    "def goster(images):\n",
    "    \"\"\"\n",
    "    Görselleri yan yana gösteren bir fonksiyon.\n",
    "    images: Görseller listesi (her biri numpy array olmalı)\n",
    "    \"\"\"\n",
    "    fig, axes = plt.subplots(1, len(images), figsize=(15, 5))\n",
    "    \n",
    "    if len(images) == 1:  # Eğer sadece bir görsel varsa\n",
    "        axes = [axes]\n",
    "\n",
    "    for i, img in enumerate(images):\n",
    "        axes[i].imshow(img, cmap='gray')\n",
    "        axes[i].axis('off')  # Eksenleri gizle\n",
    "    \n",
    "    plt.show()\n",
    "\n",
    "# Veriden ilk örneği al\n",
    "im, label = first(loader)\n",
    "print(im.shape, label.shape)\n",
    "\n",
    "# Eğer tek kanallıysa (örneğin, grayscale)\n",
    "goster([im[0, 0], label[0, 0]])\n",
    "\n",
    "# Eğer çok kanallıysa (örneğin, RGB)\n",
    "# goster([im[0], label[0]])\n"
   ]
  },
  {
   "cell_type": "markdown",
   "metadata": {
    "id": "QERr_ASzvGeI"
   },
   "source": [
    "## Eğitim için ilk 100, test için son 100"
   ]
  },
  {
   "cell_type": "code",
   "execution_count": 16,
   "metadata": {
    "id": "OeeEJ2HuvGeI"
   },
   "outputs": [],
   "source": [
    "train_imtrans = Compose(\n",
    "    [\n",
    "        LoadImage(image_only=True, ensure_channel_first=True),\n",
    "        ScaleIntensity(),  # Görüntü yoğunluğunu normalize et\n",
    "        RandSpatialCrop((256, 256), random_size=False),  # Sabit boyut: 256x256\n",
    "        RandRotate90(prob=0.5, spatial_axes=(0, 1)),  # %50 olasılıkla 90 derece döndür\n",
    "    ]\n",
    ")\n",
    "\n",
    "train_labeltrans = Compose(\n",
    "    [\n",
    "        LoadImage(image_only=True, ensure_channel_first=True),\n",
    "        RandSpatialCrop((256, 256), random_size=False),  # Sabit boyut: 256x256\n",
    "        RandRotate90(prob=0.5, spatial_axes=(0, 1)),  # %50 olasılıkla 90 derece döndür\n",
    "    ]\n",
    ")\n",
    "\n",
    "# Test verisi dönüşümü\n",
    "test_imtrans = Compose(\n",
    "    [\n",
    "        LoadImage(image_only=True, ensure_channel_first=True),\n",
    "        ScaleIntensity(),  # Test verileri için yalnızca normalize işlemi\n",
    "    ]\n",
    ")\n",
    "\n",
    "# Test etiket verisi dönüşümü\n",
    "test_labeltrans = Compose(\n",
    "    [\n",
    "        LoadImage(image_only=True, ensure_channel_first=True),\n",
    "    ]\n",
    ")\n",
    "\n",
    "# Post-processing işlemi\n",
    "post_trans = Compose(\n",
    "    [\n",
    "        Activations(sigmoid=True),  # Çıkışta sigmoid aktivasyon fonksiyonu\n",
    "        AsDiscrete(threshold=0.5),  # 0.5 eşiği ile ikili sınıflandırma (0 veya 1 olarak ayrılır)\n",
    "    ]\n",
    ")\n",
    "\n",
    "# Dataset ve DataLoader ayarları\n",
    "train_ds = ArrayDataset(images[:150], train_imtrans, labels[:150], train_labeltrans)\n",
    "test_ds = ArrayDataset(images[-28:], test_imtrans, labels[-28:], test_labeltrans)\n",
    "\n",
    "train_loader = DataLoader(\n",
    "    train_ds,\n",
    "    batch_size=16,\n",
    "    shuffle=True,\n",
    "    num_workers=4,\n",
    "    pin_memory=torch.cuda.is_available()\n",
    ")\n",
    "\n",
    "test_loader = DataLoader(\n",
    "    test_ds,\n",
    "    batch_size=4,\n",
    "    shuffle=False,\n",
    "    num_workers=2,\n",
    "    pin_memory=torch.cuda.is_available()\n",
    ")\n",
    "\n"
   ]
  },
  {
   "cell_type": "markdown",
   "metadata": {
    "id": "eLt7PdQqvGeI"
   },
   "source": [
    "##  Benzerlik ölçümü için metrik tanımı"
   ]
  },
  {
   "cell_type": "code",
   "execution_count": 36,
   "metadata": {
    "id": "dOauaKtnvGeI"
   },
   "outputs": [],
   "source": [
    "# Modelin doğruluk metriği\n",
    "dice_metric = DiceMetric(include_background=False, reduction=\"mean\", get_not_nans=True)"
   ]
  },
  {
   "cell_type": "code",
   "execution_count": 37,
   "metadata": {
    "id": "quk0cTQzvGeI"
   },
   "outputs": [],
   "source": [
    "device = torch.device(\"cuda\" if torch.cuda.is_available() else \"cpu\")\n",
    "\n",
    "\n",
    "model = monai.networks.nets.UNet(\n",
    "    spatial_dims=2,  # 2D segmentasyon\n",
    "    in_channels=3,  # RGB görüntüler için 3 kanal\n",
    "    out_channels=1,  # İkili segmentasyon için 1 kanal\n",
    "    channels=(32, 64, 128, 256, 512),  # Filtre sayıları\n",
    "    strides=(2, 2, 2, 2),  # Downsampling işlemi\n",
    "    num_res_units=2,  # Residual units sayısı\n",
    ").to(device)\n",
    "\n",
    "# Kayıp fonksiyonu: Dice Loss (sigmoid ile), eğer çok sınıflı segmentasyon yapıyorsan softmax=True kullanrom monai.losses import DiceCELoss\n",
    "loss_function = monai.losses.DiceLoss(sigmoid=True)\n",
    "\n",
    "\n",
    "\n",
    "\n",
    "# AdamW optimizer: Adam optimizer + weight decay (overfitting'i engeller)\n",
    "optimizer = torch.optim.AdamW(model.parameters(), lr=1e-4, weight_decay=1e-5)\n",
    "\n",
    "\n",
    "\n",
    "\n",
    "# Öğrenme oranı azaltma (scheduler): StepLR yerine daha uzun step_size veya ReduceLROnPlateau kullanabilirsin\n",
    "\n",
    "scheduler = torch.optim.lr_scheduler.StepLR(optimizer, step_size=10, gamma=0.1)\n",
    "\n",
    "\n",
    "\n",
    "# Alternatif olarak, ReduceLROnPlateau kullanabilirsin:\n",
    "# scheduler = torch.optim.lr_scheduler.ReduceLROnPlateau(optimizer, mode='min', patience=5, factor=0.1)"
   ]
  },
  {
   "cell_type": "code",
   "execution_count": 38,
   "metadata": {
    "id": "XcbbDluZvGeI",
    "outputId": "d4face31-3d52-4a80-de9f-c7be26e3554f"
   },
   "outputs": [
    {
     "name": "stdout",
     "output_type": "stream",
     "text": [
      "Epoch 1/20\n"
     ]
    },
    {
     "ename": "AttributeError",
     "evalue": "'tuple' object has no attribute 'to'",
     "output_type": "error",
     "traceback": [
      "\u001b[1;31m---------------------------------------------------------------------------\u001b[0m",
      "\u001b[1;31mAttributeError\u001b[0m                            Traceback (most recent call last)",
      "\u001b[1;32m~\\AppData\\Local\\Temp/ipykernel_7488/77749963.py\u001b[0m in \u001b[0;36m<module>\u001b[1;34m\u001b[0m\n\u001b[0;32m     43\u001b[0m     \u001b[1;32mfor\u001b[0m \u001b[0mbatch_data\u001b[0m \u001b[1;32min\u001b[0m \u001b[0mtrain_loader\u001b[0m\u001b[1;33m:\u001b[0m\u001b[1;33m\u001b[0m\u001b[1;33m\u001b[0m\u001b[0m\n\u001b[0;32m     44\u001b[0m         \u001b[0mstep\u001b[0m \u001b[1;33m+=\u001b[0m \u001b[1;36m1\u001b[0m\u001b[1;33m\u001b[0m\u001b[1;33m\u001b[0m\u001b[0m\n\u001b[1;32m---> 45\u001b[1;33m         \u001b[0minputs\u001b[0m\u001b[1;33m,\u001b[0m \u001b[0mlabels\u001b[0m \u001b[1;33m=\u001b[0m \u001b[0mbatch_data\u001b[0m\u001b[1;33m[\u001b[0m\u001b[1;36m0\u001b[0m\u001b[1;33m]\u001b[0m\u001b[1;33m.\u001b[0m\u001b[0mto\u001b[0m\u001b[1;33m(\u001b[0m\u001b[0mdevice\u001b[0m\u001b[1;33m)\u001b[0m\u001b[1;33m,\u001b[0m \u001b[0mbatch_data\u001b[0m\u001b[1;33m[\u001b[0m\u001b[1;36m1\u001b[0m\u001b[1;33m]\u001b[0m\u001b[1;33m.\u001b[0m\u001b[0mto\u001b[0m\u001b[1;33m(\u001b[0m\u001b[0mdevice\u001b[0m\u001b[1;33m)\u001b[0m\u001b[1;33m\u001b[0m\u001b[1;33m\u001b[0m\u001b[0m\n\u001b[0m\u001b[0;32m     46\u001b[0m \u001b[1;33m\u001b[0m\u001b[0m\n\u001b[0;32m     47\u001b[0m         \u001b[1;31m# Kanal sayısı kontrolü\u001b[0m\u001b[1;33m\u001b[0m\u001b[1;33m\u001b[0m\u001b[0m\n",
      "\u001b[1;31mAttributeError\u001b[0m: 'tuple' object has no attribute 'to'"
     ]
    }
   ],
   "source": [
    "from monai.transforms import (\n",
    "    LoadImage, ScaleIntensity, RandSpatialCrop, RandRotate90,\n",
    "    RandFlip, RandZoom, RandGaussianNoise, Compose, EnsureChannelFirst\n",
    ")\n",
    "\n",
    "# Eğitim veri dönüşümü\n",
    "train_imtrans = Compose([\n",
    "    LoadImage(image_only=True, ensure_channel_first=True),\n",
    "    ScaleIntensity(),\n",
    "    RandSpatialCrop((256, 256), random_size=False),\n",
    "    RandRotate90(prob=0.5, spatial_axes=(0, 1)),\n",
    "    RandFlip(prob=0.5),\n",
    "    RandZoom(min_zoom=0.9, max_zoom=1.1, prob=0.55),\n",
    "    RandGaussianNoise(prob=0.5),\n",
    "    EnsureChannelFirst()  # Kanalın her zaman en başta olduğundan emin ol\n",
    "])\n",
    "\n",
    "train_labeltrans = Compose([\n",
    "    LoadImage(image_only=True, ensure_channel_first=True),\n",
    "    RandSpatialCrop((256, 256), random_size=False),\n",
    "    RandRotate90(prob=0.5, spatial_axes=(0, 1)),\n",
    "    EnsureChannelFirst()  # Kanalın her zaman en başta olduğundan emin ol\n",
    "])\n",
    "\n",
    "# Test veri dönüşümleri (değişiklik yapmaya gerek yok)\n",
    "test_imtrans = Compose([\n",
    "    LoadImage(image_only=True, ensure_channel_first=True),\n",
    "    ScaleIntensity(),\n",
    "])\n",
    "\n",
    "test_labeltrans = Compose([\n",
    "    LoadImage(image_only=True, ensure_channel_first=True),\n",
    "])\n",
    "\n",
    "# Eğitim döngüsünde kanal kontrolü\n",
    "for epoch in range(20):\n",
    "    print(f\"Epoch {epoch+1}/20\")\n",
    "    model.train()\n",
    "    epoch_loss = 0\n",
    "    epoch_acc = 0\n",
    "    step = 0\n",
    "\n",
    "    for batch_data in train_loader:\n",
    "        step += 1\n",
    "        inputs, labels = batch_data[0].to(device), batch_data[1].to(device)\n",
    "        \n",
    "        # Kanal sayısı kontrolü\n",
    "        if inputs.shape[1] > 3:\n",
    "            inputs = inputs[:, :3, :, :]\n",
    "\n",
    "        optimizer.zero_grad()\n",
    "        outputs = model(inputs)\n",
    "        loss = loss_function(outputs, labels)\n",
    "        loss.backward()\n",
    "        optimizer.step()\n",
    "\n",
    "        # Loss ve accuracy hesapla\n",
    "        epoch_loss += loss.item()\n",
    "        acc = calculate_accuracy(outputs, labels)\n",
    "        epoch_acc += acc.item()\n",
    "\n",
    "        # TensorBoard'a loss ve accuracy yazdır\n",
    "        writer.add_scalar(\"train_loss\", loss.item(), epoch * len(train_loader) + step)\n",
    "        writer.add_scalar(\"train_accuracy\", acc.item(), epoch * len(train_loader) + step)\n",
    "\n",
    "    # Epoch başına ortalama loss ve accuracy hesapla\n",
    "    epoch_loss /= step\n",
    "    epoch_acc /= step\n",
    "    epoch_loss_values.append(epoch_loss)\n",
    "    epoch_acc_values.append(epoch_acc)\n",
    "    print(f\"Epoch {epoch+1} average loss: {epoch_loss:.4f}, average accuracy: {epoch_acc:.4f}\")\n",
    "\n",
    "    # Öğrenme oranını güncelle (scheduler)\n",
    "    scheduler.step()\n",
    "\n",
    "    # Early stopping kontrolü\n",
    "    if epoch_loss < best_loss:\n",
    "        best_loss = epoch_loss\n",
    "        trigger_times = 0\n",
    "    else:\n",
    "        trigger_times += 1\n",
    "        if trigger_times >= patience:\n",
    "            print(f\"Early stopping triggered at epoch {epoch+1}\")\n",
    "            break\n",
    "\n",
    "# TensorBoard'u kapatma\n",
    "writer.close()\n"
   ]
  },
  {
   "cell_type": "code",
   "execution_count": 43,
   "metadata": {
    "id": "cx1okKhgvGeJ"
   },
   "outputs": [],
   "source": [
    "torch.save(model.state_dict(), \"model.pth\")"
   ]
  },
  {
   "cell_type": "code",
   "execution_count": 39,
   "metadata": {
    "id": "bz91KUxJvGeJ",
    "outputId": "7ebd70f5-704e-4ea2-a381-3275ab8e52ae"
   },
   "outputs": [
    {
     "ename": "RuntimeError",
     "evalue": "Caught RuntimeError in DataLoader worker process 0.\nOriginal Traceback (most recent call last):\n  File \"C:\\Users\\mtdev\\AppData\\Local\\Packages\\PythonSoftwareFoundation.Python.3.9_qbz5n2kfra8p0\\LocalCache\\local-packages\\Python39\\site-packages\\monai\\data\\utils.py\", line 519, in list_data_collate\n    ret = collate_fn(data)\n  File \"C:\\Users\\mtdev\\AppData\\Local\\Packages\\PythonSoftwareFoundation.Python.3.9_qbz5n2kfra8p0\\LocalCache\\local-packages\\Python39\\site-packages\\torch\\utils\\data\\_utils\\collate.py\", line 398, in default_collate\n    return collate(batch, collate_fn_map=default_collate_fn_map)\n  File \"C:\\Users\\mtdev\\AppData\\Local\\Packages\\PythonSoftwareFoundation.Python.3.9_qbz5n2kfra8p0\\LocalCache\\local-packages\\Python39\\site-packages\\torch\\utils\\data\\_utils\\collate.py\", line 211, in collate\n    return [\n  File \"C:\\Users\\mtdev\\AppData\\Local\\Packages\\PythonSoftwareFoundation.Python.3.9_qbz5n2kfra8p0\\LocalCache\\local-packages\\Python39\\site-packages\\torch\\utils\\data\\_utils\\collate.py\", line 212, in <listcomp>\n    collate(samples, collate_fn_map=collate_fn_map)\n  File \"C:\\Users\\mtdev\\AppData\\Local\\Packages\\PythonSoftwareFoundation.Python.3.9_qbz5n2kfra8p0\\LocalCache\\local-packages\\Python39\\site-packages\\torch\\utils\\data\\_utils\\collate.py\", line 155, in collate\n    return collate_fn_map[elem_type](batch, collate_fn_map=collate_fn_map)\n  File \"C:\\Users\\mtdev\\AppData\\Local\\Packages\\PythonSoftwareFoundation.Python.3.9_qbz5n2kfra8p0\\LocalCache\\local-packages\\Python39\\site-packages\\monai\\data\\utils.py\", line 456, in collate_meta_tensor_fn\n    collated = collate_tensor_fn(batch)\n  File \"C:\\Users\\mtdev\\AppData\\Local\\Packages\\PythonSoftwareFoundation.Python.3.9_qbz5n2kfra8p0\\LocalCache\\local-packages\\Python39\\site-packages\\torch\\utils\\data\\_utils\\collate.py\", line 272, in collate_tensor_fn\n    return torch.stack(batch, 0, out=out)\n  File \"C:\\Users\\mtdev\\AppData\\Local\\Packages\\PythonSoftwareFoundation.Python.3.9_qbz5n2kfra8p0\\LocalCache\\local-packages\\Python39\\site-packages\\monai\\data\\meta_tensor.py\", line 282, in __torch_function__\n    ret = super().__torch_function__(func, types, args, kwargs)\n  File \"C:\\Users\\mtdev\\AppData\\Local\\Packages\\PythonSoftwareFoundation.Python.3.9_qbz5n2kfra8p0\\LocalCache\\local-packages\\Python39\\site-packages\\torch\\_tensor.py\", line 1512, in __torch_function__\n    ret = func(*args, **kwargs)\nRuntimeError: stack expects each tensor to be equal size, but got [4, 523, 856] at entry 0 and [4, 849, 855] at entry 1\n\nThe above exception was the direct cause of the following exception:\n\nTraceback (most recent call last):\n  File \"C:\\Users\\mtdev\\AppData\\Local\\Packages\\PythonSoftwareFoundation.Python.3.9_qbz5n2kfra8p0\\LocalCache\\local-packages\\Python39\\site-packages\\torch\\utils\\data\\_utils\\worker.py\", line 351, in _worker_loop\n    data = fetcher.fetch(index)  # type: ignore[possibly-undefined]\n  File \"C:\\Users\\mtdev\\AppData\\Local\\Packages\\PythonSoftwareFoundation.Python.3.9_qbz5n2kfra8p0\\LocalCache\\local-packages\\Python39\\site-packages\\torch\\utils\\data\\_utils\\fetch.py\", line 55, in fetch\n    return self.collate_fn(data)\n  File \"C:\\Users\\mtdev\\AppData\\Local\\Packages\\PythonSoftwareFoundation.Python.3.9_qbz5n2kfra8p0\\LocalCache\\local-packages\\Python39\\site-packages\\monai\\data\\utils.py\", line 532, in list_data_collate\n    raise RuntimeError(re_str) from re\nRuntimeError: stack expects each tensor to be equal size, but got [4, 523, 856] at entry 0 and [4, 849, 855] at entry 1\n\nMONAI hint: if your transforms intentionally create images of different shapes, creating your `DataLoader` with `collate_fn=pad_list_data_collate` might solve this problem (check its documentation).\n",
     "output_type": "error",
     "traceback": [
      "\u001b[1;31m---------------------------------------------------------------------------\u001b[0m",
      "\u001b[1;31mRuntimeError\u001b[0m                              Traceback (most recent call last)",
      "\u001b[1;32m~\\AppData\\Local\\Temp/ipykernel_18292/2888177052.py\u001b[0m in \u001b[0;36m<module>\u001b[1;34m\u001b[0m\n\u001b[0;32m      7\u001b[0m \u001b[0mmodel\u001b[0m\u001b[1;33m.\u001b[0m\u001b[0meval\u001b[0m\u001b[1;33m(\u001b[0m\u001b[1;33m)\u001b[0m\u001b[1;33m\u001b[0m\u001b[1;33m\u001b[0m\u001b[0m\n\u001b[0;32m      8\u001b[0m \u001b[1;32mwith\u001b[0m \u001b[0mtorch\u001b[0m\u001b[1;33m.\u001b[0m\u001b[0mno_grad\u001b[0m\u001b[1;33m(\u001b[0m\u001b[1;33m)\u001b[0m\u001b[1;33m:\u001b[0m\u001b[1;33m\u001b[0m\u001b[1;33m\u001b[0m\u001b[0m\n\u001b[1;32m----> 9\u001b[1;33m     \u001b[1;32mfor\u001b[0m \u001b[0mtest_data\u001b[0m \u001b[1;32min\u001b[0m \u001b[0mtest_loader\u001b[0m\u001b[1;33m:\u001b[0m\u001b[1;33m\u001b[0m\u001b[1;33m\u001b[0m\u001b[0m\n\u001b[0m\u001b[0;32m     10\u001b[0m         \u001b[0mtest_images\u001b[0m\u001b[1;33m,\u001b[0m \u001b[0mtest_labels\u001b[0m \u001b[1;33m=\u001b[0m \u001b[0mtest_data\u001b[0m\u001b[1;33m[\u001b[0m\u001b[1;36m0\u001b[0m\u001b[1;33m]\u001b[0m\u001b[1;33m.\u001b[0m\u001b[0mto\u001b[0m\u001b[1;33m(\u001b[0m\u001b[0mdevice\u001b[0m\u001b[1;33m)\u001b[0m\u001b[1;33m,\u001b[0m \u001b[0mtest_data\u001b[0m\u001b[1;33m[\u001b[0m\u001b[1;36m1\u001b[0m\u001b[1;33m]\u001b[0m\u001b[1;33m.\u001b[0m\u001b[0mto\u001b[0m\u001b[1;33m(\u001b[0m\u001b[0mdevice\u001b[0m\u001b[1;33m)\u001b[0m\u001b[1;33m\u001b[0m\u001b[1;33m\u001b[0m\u001b[0m\n\u001b[0;32m     11\u001b[0m \u001b[1;33m\u001b[0m\u001b[0m\n",
      "\u001b[1;32m~\\AppData\\Local\\Packages\\PythonSoftwareFoundation.Python.3.9_qbz5n2kfra8p0\\LocalCache\\local-packages\\Python39\\site-packages\\torch\\utils\\data\\dataloader.py\u001b[0m in \u001b[0;36m__next__\u001b[1;34m(self)\u001b[0m\n\u001b[0;32m    699\u001b[0m                 \u001b[1;31m# TODO(https://github.com/pytorch/pytorch/issues/76750)\u001b[0m\u001b[1;33m\u001b[0m\u001b[1;33m\u001b[0m\u001b[0m\n\u001b[0;32m    700\u001b[0m                 \u001b[0mself\u001b[0m\u001b[1;33m.\u001b[0m\u001b[0m_reset\u001b[0m\u001b[1;33m(\u001b[0m\u001b[1;33m)\u001b[0m  \u001b[1;31m# type: ignore[call-arg]\u001b[0m\u001b[1;33m\u001b[0m\u001b[1;33m\u001b[0m\u001b[0m\n\u001b[1;32m--> 701\u001b[1;33m             \u001b[0mdata\u001b[0m \u001b[1;33m=\u001b[0m \u001b[0mself\u001b[0m\u001b[1;33m.\u001b[0m\u001b[0m_next_data\u001b[0m\u001b[1;33m(\u001b[0m\u001b[1;33m)\u001b[0m\u001b[1;33m\u001b[0m\u001b[1;33m\u001b[0m\u001b[0m\n\u001b[0m\u001b[0;32m    702\u001b[0m             \u001b[0mself\u001b[0m\u001b[1;33m.\u001b[0m\u001b[0m_num_yielded\u001b[0m \u001b[1;33m+=\u001b[0m \u001b[1;36m1\u001b[0m\u001b[1;33m\u001b[0m\u001b[1;33m\u001b[0m\u001b[0m\n\u001b[0;32m    703\u001b[0m             if (\n",
      "\u001b[1;32m~\\AppData\\Local\\Packages\\PythonSoftwareFoundation.Python.3.9_qbz5n2kfra8p0\\LocalCache\\local-packages\\Python39\\site-packages\\torch\\utils\\data\\dataloader.py\u001b[0m in \u001b[0;36m_next_data\u001b[1;34m(self)\u001b[0m\n\u001b[0;32m   1463\u001b[0m             \u001b[1;32melse\u001b[0m\u001b[1;33m:\u001b[0m\u001b[1;33m\u001b[0m\u001b[1;33m\u001b[0m\u001b[0m\n\u001b[0;32m   1464\u001b[0m                 \u001b[1;32mdel\u001b[0m \u001b[0mself\u001b[0m\u001b[1;33m.\u001b[0m\u001b[0m_task_info\u001b[0m\u001b[1;33m[\u001b[0m\u001b[0midx\u001b[0m\u001b[1;33m]\u001b[0m\u001b[1;33m\u001b[0m\u001b[1;33m\u001b[0m\u001b[0m\n\u001b[1;32m-> 1465\u001b[1;33m                 \u001b[1;32mreturn\u001b[0m \u001b[0mself\u001b[0m\u001b[1;33m.\u001b[0m\u001b[0m_process_data\u001b[0m\u001b[1;33m(\u001b[0m\u001b[0mdata\u001b[0m\u001b[1;33m)\u001b[0m\u001b[1;33m\u001b[0m\u001b[1;33m\u001b[0m\u001b[0m\n\u001b[0m\u001b[0;32m   1466\u001b[0m \u001b[1;33m\u001b[0m\u001b[0m\n\u001b[0;32m   1467\u001b[0m     \u001b[1;32mdef\u001b[0m \u001b[0m_try_put_index\u001b[0m\u001b[1;33m(\u001b[0m\u001b[0mself\u001b[0m\u001b[1;33m)\u001b[0m\u001b[1;33m:\u001b[0m\u001b[1;33m\u001b[0m\u001b[1;33m\u001b[0m\u001b[0m\n",
      "\u001b[1;32m~\\AppData\\Local\\Packages\\PythonSoftwareFoundation.Python.3.9_qbz5n2kfra8p0\\LocalCache\\local-packages\\Python39\\site-packages\\torch\\utils\\data\\dataloader.py\u001b[0m in \u001b[0;36m_process_data\u001b[1;34m(self, data)\u001b[0m\n\u001b[0;32m   1489\u001b[0m         \u001b[0mself\u001b[0m\u001b[1;33m.\u001b[0m\u001b[0m_try_put_index\u001b[0m\u001b[1;33m(\u001b[0m\u001b[1;33m)\u001b[0m\u001b[1;33m\u001b[0m\u001b[1;33m\u001b[0m\u001b[0m\n\u001b[0;32m   1490\u001b[0m         \u001b[1;32mif\u001b[0m \u001b[0misinstance\u001b[0m\u001b[1;33m(\u001b[0m\u001b[0mdata\u001b[0m\u001b[1;33m,\u001b[0m \u001b[0mExceptionWrapper\u001b[0m\u001b[1;33m)\u001b[0m\u001b[1;33m:\u001b[0m\u001b[1;33m\u001b[0m\u001b[1;33m\u001b[0m\u001b[0m\n\u001b[1;32m-> 1491\u001b[1;33m             \u001b[0mdata\u001b[0m\u001b[1;33m.\u001b[0m\u001b[0mreraise\u001b[0m\u001b[1;33m(\u001b[0m\u001b[1;33m)\u001b[0m\u001b[1;33m\u001b[0m\u001b[1;33m\u001b[0m\u001b[0m\n\u001b[0m\u001b[0;32m   1492\u001b[0m         \u001b[1;32mreturn\u001b[0m \u001b[0mdata\u001b[0m\u001b[1;33m\u001b[0m\u001b[1;33m\u001b[0m\u001b[0m\n\u001b[0;32m   1493\u001b[0m \u001b[1;33m\u001b[0m\u001b[0m\n",
      "\u001b[1;32m~\\AppData\\Local\\Packages\\PythonSoftwareFoundation.Python.3.9_qbz5n2kfra8p0\\LocalCache\\local-packages\\Python39\\site-packages\\torch\\_utils.py\u001b[0m in \u001b[0;36mreraise\u001b[1;34m(self)\u001b[0m\n\u001b[0;32m    713\u001b[0m             \u001b[1;31m# instantiate since we don't know how to\u001b[0m\u001b[1;33m\u001b[0m\u001b[1;33m\u001b[0m\u001b[0m\n\u001b[0;32m    714\u001b[0m             \u001b[1;32mraise\u001b[0m \u001b[0mRuntimeError\u001b[0m\u001b[1;33m(\u001b[0m\u001b[0mmsg\u001b[0m\u001b[1;33m)\u001b[0m \u001b[1;32mfrom\u001b[0m \u001b[1;32mNone\u001b[0m\u001b[1;33m\u001b[0m\u001b[1;33m\u001b[0m\u001b[0m\n\u001b[1;32m--> 715\u001b[1;33m         \u001b[1;32mraise\u001b[0m \u001b[0mexception\u001b[0m\u001b[1;33m\u001b[0m\u001b[1;33m\u001b[0m\u001b[0m\n\u001b[0m\u001b[0;32m    716\u001b[0m \u001b[1;33m\u001b[0m\u001b[0m\n\u001b[0;32m    717\u001b[0m \u001b[1;33m\u001b[0m\u001b[0m\n",
      "\u001b[1;31mRuntimeError\u001b[0m: Caught RuntimeError in DataLoader worker process 0.\nOriginal Traceback (most recent call last):\n  File \"C:\\Users\\mtdev\\AppData\\Local\\Packages\\PythonSoftwareFoundation.Python.3.9_qbz5n2kfra8p0\\LocalCache\\local-packages\\Python39\\site-packages\\monai\\data\\utils.py\", line 519, in list_data_collate\n    ret = collate_fn(data)\n  File \"C:\\Users\\mtdev\\AppData\\Local\\Packages\\PythonSoftwareFoundation.Python.3.9_qbz5n2kfra8p0\\LocalCache\\local-packages\\Python39\\site-packages\\torch\\utils\\data\\_utils\\collate.py\", line 398, in default_collate\n    return collate(batch, collate_fn_map=default_collate_fn_map)\n  File \"C:\\Users\\mtdev\\AppData\\Local\\Packages\\PythonSoftwareFoundation.Python.3.9_qbz5n2kfra8p0\\LocalCache\\local-packages\\Python39\\site-packages\\torch\\utils\\data\\_utils\\collate.py\", line 211, in collate\n    return [\n  File \"C:\\Users\\mtdev\\AppData\\Local\\Packages\\PythonSoftwareFoundation.Python.3.9_qbz5n2kfra8p0\\LocalCache\\local-packages\\Python39\\site-packages\\torch\\utils\\data\\_utils\\collate.py\", line 212, in <listcomp>\n    collate(samples, collate_fn_map=collate_fn_map)\n  File \"C:\\Users\\mtdev\\AppData\\Local\\Packages\\PythonSoftwareFoundation.Python.3.9_qbz5n2kfra8p0\\LocalCache\\local-packages\\Python39\\site-packages\\torch\\utils\\data\\_utils\\collate.py\", line 155, in collate\n    return collate_fn_map[elem_type](batch, collate_fn_map=collate_fn_map)\n  File \"C:\\Users\\mtdev\\AppData\\Local\\Packages\\PythonSoftwareFoundation.Python.3.9_qbz5n2kfra8p0\\LocalCache\\local-packages\\Python39\\site-packages\\monai\\data\\utils.py\", line 456, in collate_meta_tensor_fn\n    collated = collate_tensor_fn(batch)\n  File \"C:\\Users\\mtdev\\AppData\\Local\\Packages\\PythonSoftwareFoundation.Python.3.9_qbz5n2kfra8p0\\LocalCache\\local-packages\\Python39\\site-packages\\torch\\utils\\data\\_utils\\collate.py\", line 272, in collate_tensor_fn\n    return torch.stack(batch, 0, out=out)\n  File \"C:\\Users\\mtdev\\AppData\\Local\\Packages\\PythonSoftwareFoundation.Python.3.9_qbz5n2kfra8p0\\LocalCache\\local-packages\\Python39\\site-packages\\monai\\data\\meta_tensor.py\", line 282, in __torch_function__\n    ret = super().__torch_function__(func, types, args, kwargs)\n  File \"C:\\Users\\mtdev\\AppData\\Local\\Packages\\PythonSoftwareFoundation.Python.3.9_qbz5n2kfra8p0\\LocalCache\\local-packages\\Python39\\site-packages\\torch\\_tensor.py\", line 1512, in __torch_function__\n    ret = func(*args, **kwargs)\nRuntimeError: stack expects each tensor to be equal size, but got [4, 523, 856] at entry 0 and [4, 849, 855] at entry 1\n\nThe above exception was the direct cause of the following exception:\n\nTraceback (most recent call last):\n  File \"C:\\Users\\mtdev\\AppData\\Local\\Packages\\PythonSoftwareFoundation.Python.3.9_qbz5n2kfra8p0\\LocalCache\\local-packages\\Python39\\site-packages\\torch\\utils\\data\\_utils\\worker.py\", line 351, in _worker_loop\n    data = fetcher.fetch(index)  # type: ignore[possibly-undefined]\n  File \"C:\\Users\\mtdev\\AppData\\Local\\Packages\\PythonSoftwareFoundation.Python.3.9_qbz5n2kfra8p0\\LocalCache\\local-packages\\Python39\\site-packages\\torch\\utils\\data\\_utils\\fetch.py\", line 55, in fetch\n    return self.collate_fn(data)\n  File \"C:\\Users\\mtdev\\AppData\\Local\\Packages\\PythonSoftwareFoundation.Python.3.9_qbz5n2kfra8p0\\LocalCache\\local-packages\\Python39\\site-packages\\monai\\data\\utils.py\", line 532, in list_data_collate\n    raise RuntimeError(re_str) from re\nRuntimeError: stack expects each tensor to be equal size, but got [4, 523, 856] at entry 0 and [4, 849, 855] at entry 1\n\nMONAI hint: if your transforms intentionally create images of different shapes, creating your `DataLoader` with `collate_fn=pad_list_data_collate` might solve this problem (check its documentation).\n"
     ]
    }
   ],
   "source": [
    "img = 0\n",
    "roi_size = (256, 256)  # Sliding window için daha büyük bir boyut seçilebilir\n",
    "sw_batch_size = 4  # Belleğe göre optimize edilebilir\n",
    "max_images_to_show = 3  # Görselleştirmek istediğin maksimum görüntü sayısını değiştir\n",
    "\n",
    "# Model tahminleri ve post işleme için işlemler\n",
    "model.eval()\n",
    "with torch.no_grad():\n",
    "    for test_data in test_loader:\n",
    "        test_images, test_labels = test_data[0].to(device), test_data[1].to(device)\n",
    "\n",
    "        # Sliding window inference (model tahminlerini al)\n",
    "        test_outputs = sliding_window_inference(test_images, roi_size, sw_batch_size, model)\n",
    "\n",
    "        # Post-processing işlemi\n",
    "        test_outputs = [post_trans(i) for i in decollate_batch(test_outputs)]\n",
    "\n",
    "        # Görselleştirme için ilk 3 görüntüyü seç\n",
    "        for i in range(min(max_images_to_show, len(test_images))):\n",
    "            goster([\n",
    "                test_images[i][0].cpu().detach().numpy(),  # Orijinal test görüntüsü\n",
    "                test_labels[i][0].cpu().detach().numpy(),  # Etiket\n",
    "                test_outputs[i][0].cpu().detach().numpy()  # Model çıktısı\n",
    "            ], titles=[\"Görüntü\", \"Gerçek Etiket\", \"Tahmin\"])\n",
    "\n",
    "        img += 1\n",
    "        if img == max_images_to_show:\n",
    "            break\n"
   ]
  },
  {
   "cell_type": "markdown",
   "metadata": {
    "id": "zdvKyQs4vGeJ"
   },
   "source": [
    "# En iyi ve En kötü Tahmin"
   ]
  },
  {
   "cell_type": "code",
   "execution_count": 40,
   "metadata": {
    "id": "zCMduF4tvGeJ",
    "outputId": "48001de7-7fea-49c7-9c7c-d8b8c07dd782"
   },
   "outputs": [
    {
     "name": "stdout",
     "output_type": "stream",
     "text": [
      "decollate_batch başarıyla import edildi.\n"
     ]
    }
   ],
   "source": [
    "from monai.data import decollate_batch\n",
    "print(\"decollate_batch başarıyla import edildi.\")\n"
   ]
  },
  {
   "cell_type": "code",
   "execution_count": 41,
   "metadata": {
    "id": "-rfXMs2zvGeJ",
    "outputId": "77c04f83-b941-4085-c7eb-65af9f04ffe7"
   },
   "outputs": [
    {
     "ename": "RuntimeError",
     "evalue": "Caught RuntimeError in DataLoader worker process 0.\nOriginal Traceback (most recent call last):\n  File \"C:\\Users\\mtdev\\AppData\\Local\\Packages\\PythonSoftwareFoundation.Python.3.9_qbz5n2kfra8p0\\LocalCache\\local-packages\\Python39\\site-packages\\monai\\data\\utils.py\", line 519, in list_data_collate\n    ret = collate_fn(data)\n  File \"C:\\Users\\mtdev\\AppData\\Local\\Packages\\PythonSoftwareFoundation.Python.3.9_qbz5n2kfra8p0\\LocalCache\\local-packages\\Python39\\site-packages\\torch\\utils\\data\\_utils\\collate.py\", line 398, in default_collate\n    return collate(batch, collate_fn_map=default_collate_fn_map)\n  File \"C:\\Users\\mtdev\\AppData\\Local\\Packages\\PythonSoftwareFoundation.Python.3.9_qbz5n2kfra8p0\\LocalCache\\local-packages\\Python39\\site-packages\\torch\\utils\\data\\_utils\\collate.py\", line 211, in collate\n    return [\n  File \"C:\\Users\\mtdev\\AppData\\Local\\Packages\\PythonSoftwareFoundation.Python.3.9_qbz5n2kfra8p0\\LocalCache\\local-packages\\Python39\\site-packages\\torch\\utils\\data\\_utils\\collate.py\", line 212, in <listcomp>\n    collate(samples, collate_fn_map=collate_fn_map)\n  File \"C:\\Users\\mtdev\\AppData\\Local\\Packages\\PythonSoftwareFoundation.Python.3.9_qbz5n2kfra8p0\\LocalCache\\local-packages\\Python39\\site-packages\\torch\\utils\\data\\_utils\\collate.py\", line 155, in collate\n    return collate_fn_map[elem_type](batch, collate_fn_map=collate_fn_map)\n  File \"C:\\Users\\mtdev\\AppData\\Local\\Packages\\PythonSoftwareFoundation.Python.3.9_qbz5n2kfra8p0\\LocalCache\\local-packages\\Python39\\site-packages\\monai\\data\\utils.py\", line 456, in collate_meta_tensor_fn\n    collated = collate_tensor_fn(batch)\n  File \"C:\\Users\\mtdev\\AppData\\Local\\Packages\\PythonSoftwareFoundation.Python.3.9_qbz5n2kfra8p0\\LocalCache\\local-packages\\Python39\\site-packages\\torch\\utils\\data\\_utils\\collate.py\", line 272, in collate_tensor_fn\n    return torch.stack(batch, 0, out=out)\n  File \"C:\\Users\\mtdev\\AppData\\Local\\Packages\\PythonSoftwareFoundation.Python.3.9_qbz5n2kfra8p0\\LocalCache\\local-packages\\Python39\\site-packages\\monai\\data\\meta_tensor.py\", line 282, in __torch_function__\n    ret = super().__torch_function__(func, types, args, kwargs)\n  File \"C:\\Users\\mtdev\\AppData\\Local\\Packages\\PythonSoftwareFoundation.Python.3.9_qbz5n2kfra8p0\\LocalCache\\local-packages\\Python39\\site-packages\\torch\\_tensor.py\", line 1512, in __torch_function__\n    ret = func(*args, **kwargs)\nRuntimeError: stack expects each tensor to be equal size, but got [4, 523, 856] at entry 0 and [4, 849, 855] at entry 1\n\nThe above exception was the direct cause of the following exception:\n\nTraceback (most recent call last):\n  File \"C:\\Users\\mtdev\\AppData\\Local\\Packages\\PythonSoftwareFoundation.Python.3.9_qbz5n2kfra8p0\\LocalCache\\local-packages\\Python39\\site-packages\\torch\\utils\\data\\_utils\\worker.py\", line 351, in _worker_loop\n    data = fetcher.fetch(index)  # type: ignore[possibly-undefined]\n  File \"C:\\Users\\mtdev\\AppData\\Local\\Packages\\PythonSoftwareFoundation.Python.3.9_qbz5n2kfra8p0\\LocalCache\\local-packages\\Python39\\site-packages\\torch\\utils\\data\\_utils\\fetch.py\", line 55, in fetch\n    return self.collate_fn(data)\n  File \"C:\\Users\\mtdev\\AppData\\Local\\Packages\\PythonSoftwareFoundation.Python.3.9_qbz5n2kfra8p0\\LocalCache\\local-packages\\Python39\\site-packages\\monai\\data\\utils.py\", line 532, in list_data_collate\n    raise RuntimeError(re_str) from re\nRuntimeError: stack expects each tensor to be equal size, but got [4, 523, 856] at entry 0 and [4, 849, 855] at entry 1\n\nMONAI hint: if your transforms intentionally create images of different shapes, creating your `DataLoader` with `collate_fn=pad_list_data_collate` might solve this problem (check its documentation).\n",
     "output_type": "error",
     "traceback": [
      "\u001b[1;31m---------------------------------------------------------------------------\u001b[0m",
      "\u001b[1;31mRuntimeError\u001b[0m                              Traceback (most recent call last)",
      "\u001b[1;32m~\\AppData\\Local\\Temp/ipykernel_18292/3068385710.py\u001b[0m in \u001b[0;36m<module>\u001b[1;34m\u001b[0m\n\u001b[0;32m     19\u001b[0m \u001b[1;33m\u001b[0m\u001b[0m\n\u001b[0;32m     20\u001b[0m \u001b[1;32mwith\u001b[0m \u001b[0mtorch\u001b[0m\u001b[1;33m.\u001b[0m\u001b[0mno_grad\u001b[0m\u001b[1;33m(\u001b[0m\u001b[1;33m)\u001b[0m\u001b[1;33m:\u001b[0m\u001b[1;33m\u001b[0m\u001b[1;33m\u001b[0m\u001b[0m\n\u001b[1;32m---> 21\u001b[1;33m     \u001b[1;32mfor\u001b[0m \u001b[0mtest_data\u001b[0m \u001b[1;32min\u001b[0m \u001b[0mtest_loader\u001b[0m\u001b[1;33m:\u001b[0m\u001b[1;33m\u001b[0m\u001b[1;33m\u001b[0m\u001b[0m\n\u001b[0m\u001b[0;32m     22\u001b[0m         \u001b[0mtest_images\u001b[0m\u001b[1;33m,\u001b[0m \u001b[0mtest_labels\u001b[0m \u001b[1;33m=\u001b[0m \u001b[0mtest_data\u001b[0m\u001b[1;33m[\u001b[0m\u001b[1;36m0\u001b[0m\u001b[1;33m]\u001b[0m\u001b[1;33m.\u001b[0m\u001b[0mto\u001b[0m\u001b[1;33m(\u001b[0m\u001b[0mdevice\u001b[0m\u001b[1;33m)\u001b[0m\u001b[1;33m,\u001b[0m \u001b[0mtest_data\u001b[0m\u001b[1;33m[\u001b[0m\u001b[1;36m1\u001b[0m\u001b[1;33m]\u001b[0m\u001b[1;33m.\u001b[0m\u001b[0mto\u001b[0m\u001b[1;33m(\u001b[0m\u001b[0mdevice\u001b[0m\u001b[1;33m)\u001b[0m\u001b[1;33m\u001b[0m\u001b[1;33m\u001b[0m\u001b[0m\n\u001b[0;32m     23\u001b[0m \u001b[1;33m\u001b[0m\u001b[0m\n",
      "\u001b[1;32m~\\AppData\\Local\\Packages\\PythonSoftwareFoundation.Python.3.9_qbz5n2kfra8p0\\LocalCache\\local-packages\\Python39\\site-packages\\torch\\utils\\data\\dataloader.py\u001b[0m in \u001b[0;36m__next__\u001b[1;34m(self)\u001b[0m\n\u001b[0;32m    699\u001b[0m                 \u001b[1;31m# TODO(https://github.com/pytorch/pytorch/issues/76750)\u001b[0m\u001b[1;33m\u001b[0m\u001b[1;33m\u001b[0m\u001b[0m\n\u001b[0;32m    700\u001b[0m                 \u001b[0mself\u001b[0m\u001b[1;33m.\u001b[0m\u001b[0m_reset\u001b[0m\u001b[1;33m(\u001b[0m\u001b[1;33m)\u001b[0m  \u001b[1;31m# type: ignore[call-arg]\u001b[0m\u001b[1;33m\u001b[0m\u001b[1;33m\u001b[0m\u001b[0m\n\u001b[1;32m--> 701\u001b[1;33m             \u001b[0mdata\u001b[0m \u001b[1;33m=\u001b[0m \u001b[0mself\u001b[0m\u001b[1;33m.\u001b[0m\u001b[0m_next_data\u001b[0m\u001b[1;33m(\u001b[0m\u001b[1;33m)\u001b[0m\u001b[1;33m\u001b[0m\u001b[1;33m\u001b[0m\u001b[0m\n\u001b[0m\u001b[0;32m    702\u001b[0m             \u001b[0mself\u001b[0m\u001b[1;33m.\u001b[0m\u001b[0m_num_yielded\u001b[0m \u001b[1;33m+=\u001b[0m \u001b[1;36m1\u001b[0m\u001b[1;33m\u001b[0m\u001b[1;33m\u001b[0m\u001b[0m\n\u001b[0;32m    703\u001b[0m             if (\n",
      "\u001b[1;32m~\\AppData\\Local\\Packages\\PythonSoftwareFoundation.Python.3.9_qbz5n2kfra8p0\\LocalCache\\local-packages\\Python39\\site-packages\\torch\\utils\\data\\dataloader.py\u001b[0m in \u001b[0;36m_next_data\u001b[1;34m(self)\u001b[0m\n\u001b[0;32m   1463\u001b[0m             \u001b[1;32melse\u001b[0m\u001b[1;33m:\u001b[0m\u001b[1;33m\u001b[0m\u001b[1;33m\u001b[0m\u001b[0m\n\u001b[0;32m   1464\u001b[0m                 \u001b[1;32mdel\u001b[0m \u001b[0mself\u001b[0m\u001b[1;33m.\u001b[0m\u001b[0m_task_info\u001b[0m\u001b[1;33m[\u001b[0m\u001b[0midx\u001b[0m\u001b[1;33m]\u001b[0m\u001b[1;33m\u001b[0m\u001b[1;33m\u001b[0m\u001b[0m\n\u001b[1;32m-> 1465\u001b[1;33m                 \u001b[1;32mreturn\u001b[0m \u001b[0mself\u001b[0m\u001b[1;33m.\u001b[0m\u001b[0m_process_data\u001b[0m\u001b[1;33m(\u001b[0m\u001b[0mdata\u001b[0m\u001b[1;33m)\u001b[0m\u001b[1;33m\u001b[0m\u001b[1;33m\u001b[0m\u001b[0m\n\u001b[0m\u001b[0;32m   1466\u001b[0m \u001b[1;33m\u001b[0m\u001b[0m\n\u001b[0;32m   1467\u001b[0m     \u001b[1;32mdef\u001b[0m \u001b[0m_try_put_index\u001b[0m\u001b[1;33m(\u001b[0m\u001b[0mself\u001b[0m\u001b[1;33m)\u001b[0m\u001b[1;33m:\u001b[0m\u001b[1;33m\u001b[0m\u001b[1;33m\u001b[0m\u001b[0m\n",
      "\u001b[1;32m~\\AppData\\Local\\Packages\\PythonSoftwareFoundation.Python.3.9_qbz5n2kfra8p0\\LocalCache\\local-packages\\Python39\\site-packages\\torch\\utils\\data\\dataloader.py\u001b[0m in \u001b[0;36m_process_data\u001b[1;34m(self, data)\u001b[0m\n\u001b[0;32m   1489\u001b[0m         \u001b[0mself\u001b[0m\u001b[1;33m.\u001b[0m\u001b[0m_try_put_index\u001b[0m\u001b[1;33m(\u001b[0m\u001b[1;33m)\u001b[0m\u001b[1;33m\u001b[0m\u001b[1;33m\u001b[0m\u001b[0m\n\u001b[0;32m   1490\u001b[0m         \u001b[1;32mif\u001b[0m \u001b[0misinstance\u001b[0m\u001b[1;33m(\u001b[0m\u001b[0mdata\u001b[0m\u001b[1;33m,\u001b[0m \u001b[0mExceptionWrapper\u001b[0m\u001b[1;33m)\u001b[0m\u001b[1;33m:\u001b[0m\u001b[1;33m\u001b[0m\u001b[1;33m\u001b[0m\u001b[0m\n\u001b[1;32m-> 1491\u001b[1;33m             \u001b[0mdata\u001b[0m\u001b[1;33m.\u001b[0m\u001b[0mreraise\u001b[0m\u001b[1;33m(\u001b[0m\u001b[1;33m)\u001b[0m\u001b[1;33m\u001b[0m\u001b[1;33m\u001b[0m\u001b[0m\n\u001b[0m\u001b[0;32m   1492\u001b[0m         \u001b[1;32mreturn\u001b[0m \u001b[0mdata\u001b[0m\u001b[1;33m\u001b[0m\u001b[1;33m\u001b[0m\u001b[0m\n\u001b[0;32m   1493\u001b[0m \u001b[1;33m\u001b[0m\u001b[0m\n",
      "\u001b[1;32m~\\AppData\\Local\\Packages\\PythonSoftwareFoundation.Python.3.9_qbz5n2kfra8p0\\LocalCache\\local-packages\\Python39\\site-packages\\torch\\_utils.py\u001b[0m in \u001b[0;36mreraise\u001b[1;34m(self)\u001b[0m\n\u001b[0;32m    713\u001b[0m             \u001b[1;31m# instantiate since we don't know how to\u001b[0m\u001b[1;33m\u001b[0m\u001b[1;33m\u001b[0m\u001b[0m\n\u001b[0;32m    714\u001b[0m             \u001b[1;32mraise\u001b[0m \u001b[0mRuntimeError\u001b[0m\u001b[1;33m(\u001b[0m\u001b[0mmsg\u001b[0m\u001b[1;33m)\u001b[0m \u001b[1;32mfrom\u001b[0m \u001b[1;32mNone\u001b[0m\u001b[1;33m\u001b[0m\u001b[1;33m\u001b[0m\u001b[0m\n\u001b[1;32m--> 715\u001b[1;33m         \u001b[1;32mraise\u001b[0m \u001b[0mexception\u001b[0m\u001b[1;33m\u001b[0m\u001b[1;33m\u001b[0m\u001b[0m\n\u001b[0m\u001b[0;32m    716\u001b[0m \u001b[1;33m\u001b[0m\u001b[0m\n\u001b[0;32m    717\u001b[0m \u001b[1;33m\u001b[0m\u001b[0m\n",
      "\u001b[1;31mRuntimeError\u001b[0m: Caught RuntimeError in DataLoader worker process 0.\nOriginal Traceback (most recent call last):\n  File \"C:\\Users\\mtdev\\AppData\\Local\\Packages\\PythonSoftwareFoundation.Python.3.9_qbz5n2kfra8p0\\LocalCache\\local-packages\\Python39\\site-packages\\monai\\data\\utils.py\", line 519, in list_data_collate\n    ret = collate_fn(data)\n  File \"C:\\Users\\mtdev\\AppData\\Local\\Packages\\PythonSoftwareFoundation.Python.3.9_qbz5n2kfra8p0\\LocalCache\\local-packages\\Python39\\site-packages\\torch\\utils\\data\\_utils\\collate.py\", line 398, in default_collate\n    return collate(batch, collate_fn_map=default_collate_fn_map)\n  File \"C:\\Users\\mtdev\\AppData\\Local\\Packages\\PythonSoftwareFoundation.Python.3.9_qbz5n2kfra8p0\\LocalCache\\local-packages\\Python39\\site-packages\\torch\\utils\\data\\_utils\\collate.py\", line 211, in collate\n    return [\n  File \"C:\\Users\\mtdev\\AppData\\Local\\Packages\\PythonSoftwareFoundation.Python.3.9_qbz5n2kfra8p0\\LocalCache\\local-packages\\Python39\\site-packages\\torch\\utils\\data\\_utils\\collate.py\", line 212, in <listcomp>\n    collate(samples, collate_fn_map=collate_fn_map)\n  File \"C:\\Users\\mtdev\\AppData\\Local\\Packages\\PythonSoftwareFoundation.Python.3.9_qbz5n2kfra8p0\\LocalCache\\local-packages\\Python39\\site-packages\\torch\\utils\\data\\_utils\\collate.py\", line 155, in collate\n    return collate_fn_map[elem_type](batch, collate_fn_map=collate_fn_map)\n  File \"C:\\Users\\mtdev\\AppData\\Local\\Packages\\PythonSoftwareFoundation.Python.3.9_qbz5n2kfra8p0\\LocalCache\\local-packages\\Python39\\site-packages\\monai\\data\\utils.py\", line 456, in collate_meta_tensor_fn\n    collated = collate_tensor_fn(batch)\n  File \"C:\\Users\\mtdev\\AppData\\Local\\Packages\\PythonSoftwareFoundation.Python.3.9_qbz5n2kfra8p0\\LocalCache\\local-packages\\Python39\\site-packages\\torch\\utils\\data\\_utils\\collate.py\", line 272, in collate_tensor_fn\n    return torch.stack(batch, 0, out=out)\n  File \"C:\\Users\\mtdev\\AppData\\Local\\Packages\\PythonSoftwareFoundation.Python.3.9_qbz5n2kfra8p0\\LocalCache\\local-packages\\Python39\\site-packages\\monai\\data\\meta_tensor.py\", line 282, in __torch_function__\n    ret = super().__torch_function__(func, types, args, kwargs)\n  File \"C:\\Users\\mtdev\\AppData\\Local\\Packages\\PythonSoftwareFoundation.Python.3.9_qbz5n2kfra8p0\\LocalCache\\local-packages\\Python39\\site-packages\\torch\\_tensor.py\", line 1512, in __torch_function__\n    ret = func(*args, **kwargs)\nRuntimeError: stack expects each tensor to be equal size, but got [4, 523, 856] at entry 0 and [4, 849, 855] at entry 1\n\nThe above exception was the direct cause of the following exception:\n\nTraceback (most recent call last):\n  File \"C:\\Users\\mtdev\\AppData\\Local\\Packages\\PythonSoftwareFoundation.Python.3.9_qbz5n2kfra8p0\\LocalCache\\local-packages\\Python39\\site-packages\\torch\\utils\\data\\_utils\\worker.py\", line 351, in _worker_loop\n    data = fetcher.fetch(index)  # type: ignore[possibly-undefined]\n  File \"C:\\Users\\mtdev\\AppData\\Local\\Packages\\PythonSoftwareFoundation.Python.3.9_qbz5n2kfra8p0\\LocalCache\\local-packages\\Python39\\site-packages\\torch\\utils\\data\\_utils\\fetch.py\", line 55, in fetch\n    return self.collate_fn(data)\n  File \"C:\\Users\\mtdev\\AppData\\Local\\Packages\\PythonSoftwareFoundation.Python.3.9_qbz5n2kfra8p0\\LocalCache\\local-packages\\Python39\\site-packages\\monai\\data\\utils.py\", line 532, in list_data_collate\n    raise RuntimeError(re_str) from re\nRuntimeError: stack expects each tensor to be equal size, but got [4, 523, 856] at entry 0 and [4, 849, 855] at entry 1\n\nMONAI hint: if your transforms intentionally create images of different shapes, creating your `DataLoader` with `collate_fn=pad_list_data_collate` might solve this problem (check its documentation).\n"
     ]
    }
   ],
   "source": [
    "import torch\n",
    "import matplotlib.pyplot as plt\n",
    "from monai.inferers import sliding_window_inference\n",
    "from monai.transforms import Compose, Activations, AsDiscrete\n",
    "from monai.metrics import DiceMetric\n",
    "\n",
    "# Post-processing işlemi için 'post_trans' oluşturuluyor\n",
    "post_trans = Compose([Activations(sigmoid=True), AsDiscrete(threshold=0.5)])\n",
    "\n",
    "# En iyi ve en kötü Dice skorlarını belirlemek için değişkenler\n",
    "best_score = float('-inf')  # En iyi skoru en düşükten başlat\n",
    "worst_score = float('inf')  # En kötü skoru en yüksekte başlat\n",
    "best_image, worst_image = None, None\n",
    "best_label, worst_label = None, None\n",
    "best_pred, worst_pred = None, None\n",
    "\n",
    "model.eval()\n",
    "dice_metric = DiceMetric(include_background=False, reduction=\"mean\")\n",
    "\n",
    "with torch.no_grad():\n",
    "    for test_data in test_loader:\n",
    "        test_images, test_labels = test_data[0].to(device), test_data[1].to(device)\n",
    "\n",
    "        # Etiketleri 0-1 aralığına dönüştür\n",
    "        test_labels = test_labels / 255.0\n",
    "\n",
    "        preds = sliding_window_inference(test_images, roi_size=(256, 256), sw_batch_size=4, predictor=model)\n",
    "        preds = [post_trans(i) for i in preds]\n",
    "\n",
    "        # Her örnek için Dice skorunu hesapla\n",
    "        for i in range(len(test_images)):\n",
    "            dice_metric(y_pred=preds[i].unsqueeze(0), y=test_labels[i].unsqueeze(0))\n",
    "            dice_score = dice_metric.aggregate().item()\n",
    "            dice_metric.reset()\n",
    "\n",
    "            # Debugging: Dice skoru ve şekil bilgilerini yazdır\n",
    "            print(f\"Örnek {i} Dice Skoru: {dice_score}\")\n",
    "            print(f\"Tahmin Şekli: {preds[i].shape}, Etiket Şekli: {test_labels[i].shape}\")\n",
    "            print(f\"Tahmin Benzersiz Değerler: {torch.unique(preds[i])}, Etiket Benzersiz Değerler: {torch.unique(test_labels[i])}\")\n",
    "\n",
    "            # En iyi ve en kötü tahminleri belirle\n",
    "            if dice_score > best_score:\n",
    "                best_score = dice_score\n",
    "                best_image = test_images[i].cpu().numpy()[0]  # Numpy'ye dönüştür ve 2D dilimi al\n",
    "                best_label = test_labels[i].cpu().numpy()[0]  # Numpy'ye dönüştür ve 2D dilimi al\n",
    "                best_pred = preds[i].cpu().numpy()[0]  # Numpy'ye dönüştür ve 2D dilimi al\n",
    "\n",
    "            if dice_score < worst_score:\n",
    "                worst_score = dice_score\n",
    "                worst_image = test_images[i].cpu().numpy()[0]  # Numpy'ye dönüştür ve 2D dilimi al\n",
    "                worst_label = test_labels[i].cpu().numpy()[0]  # Numpy'ye dönüştür ve 2D dilimi al\n",
    "                worst_pred = preds[i].cpu().numpy()[0]  # Numpy'ye dönüştür ve 2D dilimi al\n",
    "\n",
    "# Debugging: Kontrol et, None olup olmadıklarını\n",
    "if best_image is None or best_label is None or best_pred is None:\n",
    "    print(\"En iyi örnekler None olarak kaldı!\")\n",
    "if worst_image is None or worst_label is None or worst_pred is None:\n",
    "    print(\"En kötü örnekler None olarak kaldı!\")\n",
    "\n",
    "# Görselleştirme fonksiyonu\n",
    "def goster(goruntuler, titles=None):\n",
    "    n = len(goruntuler)\n",
    "    fig, axs = plt.subplots(1, n, figsize=(3 * n, 3))\n",
    "    if n == 1:\n",
    "        axs = [axs]\n",
    "\n",
    "    for i, goruntu in enumerate(goruntuler):\n",
    "        if goruntu is not None:\n",
    "            # Görüntü verisini 2D boyuta dönüştür (squeeze() ile)\n",
    "            axs[i].imshow(goruntu.squeeze(), cmap='gray')  # squeeze() ile fazla boyutları at\n",
    "            axs[i].axis('off')\n",
    "            if titles:\n",
    "                axs[i].set_title(titles[i])\n",
    "        else:\n",
    "            axs[i].axis('off')\n",
    "            if titles:\n",
    "                axs[i].set_title(f\"None - {titles[i]}\")\n",
    "\n",
    "    plt.subplots_adjust(wspace=0.1)\n",
    "    plt.show()\n",
    "\n",
    "print(\"En iyi test örneği:\")\n",
    "goster([best_image, best_label, best_pred], titles=[\"Görüntü\", \"Gerçek Etiket\", \"Tahmin\"])\n",
    "\n",
    "print(\"En kötü test örneği:\")\n",
    "goster([worst_image, worst_label, worst_pred], titles=[\"Görüntü\", \"Gerçek Etiket\", \"Tahmin\"])\n"
   ]
  },
  {
   "cell_type": "code",
   "execution_count": null,
   "metadata": {
    "id": "dmaAmH6AvGeJ"
   },
   "outputs": [],
   "source": []
  }
 ],
 "metadata": {
  "colab": {
   "provenance": []
  },
  "kernelspec": {
   "display_name": "Python 3",
   "language": "python",
   "name": "python3"
  },
  "language_info": {
   "codemirror_mode": {
    "name": "ipython",
    "version": 3
   },
   "file_extension": ".py",
   "mimetype": "text/x-python",
   "name": "python",
   "nbconvert_exporter": "python",
   "pygments_lexer": "ipython3",
   "version": "3.9.13"
  }
 },
 "nbformat": 4,
 "nbformat_minor": 0
}
